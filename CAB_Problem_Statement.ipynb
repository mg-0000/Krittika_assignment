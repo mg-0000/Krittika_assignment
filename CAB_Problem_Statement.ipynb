{
  "cells": [
    {
      "cell_type": "markdown",
      "metadata": {
        "id": "6jprQ7IFBY9b"
      },
      "source": [
        "# **Question 1 : Visualizing Pleiades cluster**\n",
        "\n",
        "Our beloved astronomy club, Krittika, is named after one of the most conspicuous star cluster in the sky, Pleiades. The CSV file stardata.csv\n",
        "contains four columns of data, which contain the following data for 196 stars in the cluster:\n",
        "\n",
        "\n",
        "*   Column 1: RA of each star in degrees\n",
        "*   Column 2: Declination of each star in degrees\n",
        "*   Column 3: Parallax of each star in milliarcseconds (mas)\n",
        "*   Column 4: Apparent Magnitude of the star\n",
        "\n",
        "\n",
        "Parallax $p$ of a star is directly related to its distance $d$ as $d$ in parsecs $= \\frac{1}{p}$ where parallax is in arcseconds.\n",
        "\n",
        "Before proceeding, you need to be able to read the csv file contents, and since the assignment involves graphs, you might want to import some things as well:"
      ]
    },
    {
      "cell_type": "code",
      "execution_count": null,
      "metadata": {
        "id": "wFuuIRbqCIRL"
      },
      "outputs": [],
      "source": [
        "#put your import statements here\n",
        "#import pandas as pd\n",
        "import math\n",
        "import numpy as np\n",
        "import matplotlib.pyplot as plt\n",
        "#use one of the imported libraries to read the contents of csv file in a neat form\n",
        "with open('stardata.csv','r') as f:    #creating a list with lines of file as elements\n",
        "    lines=f.read().split('\\n')\n",
        "data_stars=[]   #splitting the lines according to commas, now you have a nested list with planet, moon, diameter\n",
        "for line in lines:\n",
        "    data_stars.append(line.split(','))\n",
        "star_data=np.array(data_stars)"
      ]
    },
    {
      "cell_type": "markdown",
      "metadata": {
        "id": "tRub3yySCcbd"
      },
      "source": [
        "A little background on magnitude of a star:\n",
        "\n",
        "Magnitudes in Astronomy are a way to describe how bright an object (in our case, a star) is:\n",
        "\n",
        "**Apparent magnitude**: Apparent magnitude ($m$) is a measure of the brightness of a star or any other astronomical object observed from the earth. It is similar to the decibel system for sound in that magnitudes are logarithmic and can be calculated according to the formula\n",
        "$$m = -2.5 \\log  { \\left ( \\dfrac{F}{F_0} \\right )} $$\n",
        "where $F$ is the flux from the star (measured in $W/m^2$), and $F_0$ is a reference flux. \n",
        "\n",
        "We can calculate the flux of a star at some distance $d$ away as\n",
        "$$F = \\dfrac{L}{4 \\pi d^2}$$\n",
        "\n",
        "where $L$ is the Luminosity of the star (measured in W).\n",
        "\n",
        "**Absolute magnitude**: It is the magnitude of the star at a distance of 10 pc, and is related to the apparent magnitude by (and try to see if you can derive this):\n",
        "$$m-M = -5 + 5\\log_{10}(d)$$\n",
        "where $M$ is the absolute magnitude and $d$ is the distance of the star from us in parsecs (pc).\n",
        "To read up more about magnitudes, hit up this Wikipedia article - https://en.wikipedia.org/wiki/Magnitude_(astronomy%29.\n",
        "\n",
        "Using the above info and the earlier relation of distance and parallax, use the imported libraries to find the absolute magnitudes of all the stars of the csv file, and plot a histogram of the distribution, with 50 bins."
      ]
    },
    {
      "cell_type": "code",
      "execution_count": null,
      "metadata": {
        "id": "kJpsPXK6sMZp"
      },
      "outputs": [],
      "source": [
        "#Solution code\n",
        "abs_magnitude=np.zeros([star_data.shape[0]-1,1])\n",
        "for i in range(0,star_data.shape[0]-1):\n",
        "    if star_data[i][2]=='--' :\n",
        "        star_data[i][2]='nan'\n",
        "    abs_magnitude[i]=float(star_data[i][0])+5-(5*math.log10(1000/float(star_data[i][2])))\n",
        "\n",
        "plt.hist(abs_magnitude, bins=50)\n",
        "plt.xlabel(\"Absolute Magnitudes\")\n",
        "plt.ylabel(\"Frequency\")\n",
        "plt.title(\"Absolute Magnitudes histogram\")"
      ]
    },
    {
      "cell_type": "markdown",
      "metadata": {
        "id": "GafdlK2-sinu"
      },
      "source": [
        "A good way to visualize the actual star cluster as it appears to us in the night sky would be to make a scatter plot of declination and RA on the $y$ and $x$ axes respectively. Try plotting the stars such that the star appears bigger if it is brighter. One way to do this is to make the size of dots in scatter plot proportional to (12 - apparent magnitude) of the star.\n",
        "\n",
        "(Hint: Google how to make a scatter plot with variable size of dots.)\n",
        "\n",
        "If you can't make a plot with variable dot sizes, make a simple plot with all dots of same size."
      ]
    },
    {
      "cell_type": "code",
      "execution_count": 53,
      "metadata": {
        "id": "JUu_c0zU6vFF"
      },
      "outputs": [
        {
          "data": {
            "image/png": "[encoded data removed]",
            "text/plain": [
              "<Figure size 432x288 with 1 Axes>"
            ]
          },
          "metadata": {
            "needs_background": "light"
          },
          "output_type": "display_data"
        }
      ],
      "source": [
        "#Solution code\n",
        "declination=[]\n",
        "ra=[]\n",
        "app_mag=[]\n",
        "for i in range(0,star_data.shape[0]-1):\n",
        "    declination.append(float(star_data[i][0]))\n",
        "    ra.append(float(star_data[i][1]))\n",
        "    app_mag.append(12-float(star_data[i][3]))\n",
        "plt.scatter(declination,ra,s=(app_mag))\n",
        "plt.show()"
      ]
    },
    {
      "cell_type": "markdown",
      "metadata": {
        "id": "L2gMlFIy7Ucq"
      },
      "source": [
        "# **Question 2 : Estimating Age of Universe using Hubble's Law**\n",
        "\n",
        "In this problem, we will use Hubble's Law on a large number of galaxies, and fit the data to a linear model to find the value of the Hubble Constant, which we will use to calculate the current age of the universe.\n",
        "\n",
        "You can learn more about Hubble's Law, a very important principle of cosmology and expansion of Universe over here - https://simple.m.wikipedia.org/wiki/Hubble%27s_law \n",
        "\n",
        "Step 0: Importing libraries\n",
        "\n",
        "Dump all the required libraries, and define any necessary constants in the code box below.\n",
        "\n",
        "You will require the optimize module of scipy library, so be sure to include a line saying `from scipy.optimize import curve_fit`."
      ]
    },
    {
      "cell_type": "code",
      "execution_count": null,
      "metadata": {
        "id": "DTpOG9Fr70Nc"
      },
      "outputs": [],
      "source": [
        "#import libraries and define constants"
      ]
    },
    {
      "cell_type": "markdown",
      "metadata": {
        "id": "b_Fes9_P78i_"
      },
      "source": [
        "Step 2: Loading the data\n",
        "\n",
        "Open the file \"data.txt\" and store it in array(s). First row contains the distance modulus (https://en.m.wikipedia.org/wiki/Distance_modulus) of the galaxy from earth, second row contains the line of sight velocity in km/s.\n",
        "\n",
        "To convert distance modulus to distance in Megaparsecs (the unit we will be using in the rest of the question), use the formula:\n",
        "\n",
        "$d = 10^{\\left(\\frac{d_{dist mod}}{5} - 5\\right)}$\n",
        "\n",
        "where $d$ is in megaparsecs (Mpc)."
      ]
    },
    {
      "cell_type": "code",
      "execution_count": null,
      "metadata": {
        "id": "itgR16OO8jTb"
      },
      "outputs": [],
      "source": [
        "#Load data and convert it to useable form"
      ]
    },
    {
      "cell_type": "markdown",
      "metadata": {
        "id": "v8n0_bmv8rBu"
      },
      "source": [
        "Step 3: Preliminary Data Visualization\n",
        "\n",
        "Create a function taking the distance to the galaxy, and a slope and an intercept parameter as input, returning recession velocity of that galaxy as output. A code snippet showing how to use curve_fit to find the optimum slope and intercept is shown here - https://github.com/krittikaiitb/tutorials/blob/master/Tutorial_07/SciPy1.ipynb \n",
        "\n",
        "Create a scatter plot of the line of sight velocity of the galaxies (in km/s) vs the distance to the galaxies (in Mpc). Also plot the model you just fit in the same graph."
      ]
    },
    {
      "cell_type": "code",
      "execution_count": null,
      "metadata": {
        "id": "PYqutdHI8yB6"
      },
      "outputs": [],
      "source": [
        "#Create a best fit model and plot the data"
      ]
    },
    {
      "cell_type": "markdown",
      "metadata": {
        "id": "osng2Pxi84rx"
      },
      "source": [
        "Step 4: Removing Outliers (OPTIONAL)\n",
        "\n",
        "As you can see, there are many points on the outskirts of the graph, which may affect out calulations of the slope and intercept unduly. Devise a way to remove those outliers to your satisfaction, and replot the remaining data points. There are multiple ways to do this, a few of them could be:\n",
        "\n",
        "1. Removing all points whose distances are 3$\\times$(Standard Deviation of Distance from Earth) away from the Mean Distance of all input galaxies from Earth. (or take any factor other than 3)\n",
        "\n",
        "2. Removing all points which are a certain distance away from the best fit line initially calculated (decide yourself what to set this distance as, could be a factor of the mean distance from the line for all points)."
      ]
    },
    {
      "cell_type": "code",
      "execution_count": null,
      "metadata": {
        "id": "0-RxWO9g9Lzd"
      },
      "outputs": [],
      "source": [
        "#Remove outliers and replot the improved data"
      ]
    },
    {
      "cell_type": "markdown",
      "metadata": {
        "id": "y0PXYi3V9QF0"
      },
      "source": [
        "Step 5: Conclusion\n",
        "\n",
        "The slope of the graph (with recessional velocity in the y-axis and distance of the galaxy in the x-axis) gives us the Hubble Constant $H_0$ (in units km/s-Mpc). The reciprocal of the Hubble Constant is a good approximation for the age of the universe. Hence, find the age of the universe using your calculations."
      ]
    },
    {
      "cell_type": "code",
      "execution_count": null,
      "metadata": {
        "id": "2u9oHjvS9gZf"
      },
      "outputs": [],
      "source": [
        "#Solution code"
      ]
    }
  ],
  "metadata": {
    "colab": {
      "authorship_tag": "ABX9TyNaK6XDBQKfATua5LP6gr1x",
      "collapsed_sections": [],
      "name": "CAB_Problem_Statement.ipynb",
      "provenance": []
    },
    "kernelspec": {
      "display_name": "Python 3.10.5 64-bit",
      "language": "python",
      "name": "python3"
    },
    "language_info": {
      "codemirror_mode": {
        "name": "ipython",
        "version": 3
      },
      "file_extension": ".py",
      "mimetype": "text/x-python",
      "name": "python",
      "nbconvert_exporter": "python",
      "pygments_lexer": "ipython3",
      "version": "3.10.4"
    },
    "vscode": {
      "interpreter": {
        "hash": "e7370f93d1d0cde622a1f8e1c04877d8463912d04d973331ad4851f04de6915a"
      }
    }
  },
  "nbformat": 4,
  "nbformat_minor": 0
}
